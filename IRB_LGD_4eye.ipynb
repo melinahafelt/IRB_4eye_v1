{
 "cells": [
  {
   "cell_type": "markdown",
   "id": "e63ffa10-73e9-4a81-82b4-5e657d5a6126",
   "metadata": {},
   "source": [
    "<font color=\"grey\">\n",
    "Melina Hafelt  <BR>\n",
    "melinahafelt@gmail.com <BR>\n",
    "2025-07-06<BR>\n",
    "</font>"
   ]
  },
  {
   "cell_type": "markdown",
   "id": "ce27b9c3-7618-44a2-849d-25c6fc7ccf1c",
   "metadata": {},
   "source": [
    "## Abstract\n",
    "\n",
    "> **Note:** This project uses artificially generated data, parameters, and conversion factors, all created by me. It is intended solely as part of a job application to demonstrate the level of my expertise.\n",
    "\n",
    "This notebook presents a full end-to-end pipeline for **Loss Given Default (LGD)** modeling within the **Internal Ratings-Based (IRB)** framework. The goal is to demonstrate a structured, transparent, and regulatory-aligned approach to modeling credit loss severity while applying practical data science principles.\n",
    "\n",
    "The process includes:\n",
    "\n",
    "- Data quality review and exploratory analysis of exposure and recovery patterns  \n",
    "- Feature engineering informed by credit risk domain knowledge  \n",
    "- Pipeline construction for imputation, encoding, scaling, and regression modeling  \n",
    "- LGD estimation using a regression model on defaulted observations  \n",
    "- Performance evaluation via R$^2$, RMSE, residual analysis, and prediction calibration  \n",
    "- Structured validation using a traffic-light assessment framework  \n",
    "\n",
    "Each step is designed to be transparent, reproducible, and suitable for deployment in production environments. The modular, pipeline-based approach supports clean data handling and reduces the risk of data leakage or model instability.\n",
    "\n",
    "This project was developed independently to reflect both technical proficiency and a sound understanding of regulatory credit risk modeling practices, particularly in estimating LGD as part of the IRB framework.\n"
   ]
  },
  {
   "cell_type": "markdown",
   "id": "5c064390-c3b1-4cf4-ae18-20c8a2f99d90",
   "metadata": {},
   "source": [
    "# Table of Contents\n",
    "\n",
    "1. **Theory and Background: Credit Risk – Loss Given Default (LGD)**  \n",
    "   1.1 What is LGD?  \n",
    "   1.2 Time Horizon and Regulatory Context  \n",
    "   1.3 How is LGD Estimated?  \n",
    "   1.4 Factors Affecting LGD  \n",
    "   1.5 Example: LGD by Collateral Type  \n",
    "   1.6 LGD within the IRB Framework  \n",
    "   1.7 Special Considerations  \n",
    "   1.8 References  \n",
    "\n",
    "2. **Data Overview and Preparation**  \n",
    "   2.1 Python Libraries Used  \n",
    "   2.2 Data Description and Variables  \n",
    "   2.3 Exploratory Data Analysis and LGD Interpretation  \n",
    "   2.4 Data Quality Assessment (Missing Values and Duplicates)  \n",
    "   2.5 Handling Duplicate Default Records – Aggregation  \n",
    "   2.6 Outlier Detection and Treatment (Winsorizing)  \n",
    "   2.7 Feature Engineering and Transformation  \n",
    "   2.8 Train-Test Split  \n",
    "\n",
    "3. **Model Development and Evaluation**  \n",
    "   3.1 LGD Model Comparison and Performance Summary  \n",
    "   3.2 Predicted vs. Actual LGD Visualization (XGBoost)  \n",
    "   3.3 LGD Calibration Analysis and Prediction Export  \n",
    "   3.4 Model Selection Considerations and Recommendations  \n",
    "\n",
    "4. **Validation and Diagnostics**  \n",
    "   4.1 Stability over Time and Segments  \n",
    "   4.2 Sensitivity and Stress Testing  \n",
    "   4.3 Limitations and Assumptions  \n",
    "\n",
    "5. **Regulatory Compliance**  \n",
    "   5.1 Downturn LGD Considerations  \n",
    "   5.2 Documentation and Transparency  \n",
    "   5.3 Model Governance Recommendations  \n",
    "\n",
    "6. **Conclusions and Recommendations** "
   ]
  },
  {
   "cell_type": "markdown",
   "id": "2de23d64-6d8b-48df-b43d-57bb780aca87",
   "metadata": {},
   "source": [
    "# 1. Theory and Background: Credit Risk – Loss Given Default (LGD)\n",
    "\n",
    "I detta avsnitt introducerar vi kärnbegreppen för **Loss Given Default (LGD)** inom ramen för kreditrisk och Basel-regleringen. Här beskrivs vad LGD är, dess roll i IRB-modellen samt faktorer som påverkar LGD och hur den vanligtvis estimeras.\n",
    "\n",
    "Ett viktigt koncept att förstå är skillnaden mellan **Point-in-Time (PiT)** och **Through-the-Cycle (TTC)** uppskattningar. IRB-modellen baseras huvudsakligen på PiT-uppskattningar, vilket innebär att parametrarna (PD, LGD, EAD) reflekterar aktuella förhållanden och marknadsläge snarare än genomsnitt över en hel konjunkturcykel. Detta gör att modellerna är känsligare för förändringar i ekonomiskt klimat och kreditförhållanden, vilket ställer högre krav på frekvent uppdatering och validering.\n",
    "\n",
    "## 1.1 What is LGD?\n",
    "\n",
    "**Loss Given Default (LGD)** representerar den andel av en kreditexponering som en bank förväntar sig förlora vid en låntagares default. Den inkluderar återvinningar från säkerheter och andra insamlade medel efter default.\n",
    "\n",
    "**Exempel:**  \n",
    "Om banken har en exponering på €100,000 och förväntar sig återvinna €30,000 efter default, är:\n",
    "\n",
    "$$\n",
    "\\text{LGD} = \\frac{100,000 - 30,000}{100,000} = 70\\%\n",
    "$$\n",
    "\n",
    "## 1.2 Time Horizon and Regulatory Context\n",
    "\n",
    "LGD modelleras oftast som **downturn LGD**, vilket innebär att den reflekterar förluster under ekonomiska nedgångar. Detta säkerställer konservativa kapitalkrav även i stressade scenarier. Inom Advanced IRB-ramverket är banken ansvarig för att estimera LGD och göra nödvändiga justeringar enligt regulatorisk vägledning.\n",
    "\n",
    "Eftersom IRB-modellen använder PiT-parametrar måste bankerna också beakta **makroekonomiska cykler** och applicera **downturn adjustment** för att säkerställa att LGD är tillräckligt konservativ under ekonomiska nedgångar.\n",
    "\n",
    "## 1.3 How is LGD estimated?\n",
    "\n",
    "1. Identifiera defaultade kunder (endast dessa inkluderas).  \n",
    "2. Samla in återvinningsdata (säkerheter, juridiska processer, övriga betalningar).  \n",
    "3. Beräkna LGD per exponering:  \n",
    "   $$\n",
    "   \\text{LGD} = 1 - \\frac{\\text{Recovered Amount}}{\\text{Exposure at Default (EAD)}}\n",
    "   $$  \n",
    "4. Modellera återvinningsbeteende via regressionsmodeller.  \n",
    "5. Applicera downturn-justeringar.\n",
    "\n",
    "## 1.4 Factors Affecting LGD\n",
    "\n",
    "- Typ och värde av säkerhet  \n",
    "- Fordrans prioritet  \n",
    "- Juridiska återvinningsprocesser  \n",
    "- Makroekonomiska förhållanden  \n",
    "- Bransch och region\n",
    "\n",
    "## 1.5 Example: LGD by Collateral Type\n",
    "\n",
    "| Collateral Type              | Description              | LGD (%) |\n",
    "|-----------------------------|--------------------------|---------|\n",
    "| Residential real estate     | Fully secured mortgage   | 10–20   |\n",
    "| Corporate loans             | Partially secured        | 30–60   |\n",
    "| Unsecured consumer loans    | No collateral            | 70–90   |\n",
    "| Defaulted with no recovery  | Zero recovery            | 100     |\n",
    "\n",
    "## 1.6 LGD within the IRB Framework\n",
    "\n",
    "LGD är en av tre nyckelparametrar i IRB-modellen, tillsammans med:  \n",
    "- **PD (Probability of Default)**  \n",
    "- **EAD (Exposure at Default)**  \n",
    "\n",
    "Kapitalkrav beräknas som en funktion av dessa:\n",
    "\n",
    "$$\n",
    "\\text{Capital Requirement} = f(\\text{PD}, \\text{LGD}, \\text{EAD})\n",
    "$$\n",
    "\n",
    "Eftersom IRB bygger på PiT-modeller krävs noggrann kalibrering och regelbunden uppdatering av dessa parametrar för att korrekt spegla förändringar i kreditkvalitet och makroekonomiska förhållanden.\n",
    "\n",
    "## 1.7 Special Considerations\n",
    "\n",
    "- Basel kräver minimivärden (floors) för vissa exponeringar (t.ex. 10% för bostadslån).  \n",
    "- Cure rate: Återhämtade default kan påverka LGD.  \n",
    "- Skillnaden mellan workout LGD (baserad på kassaflöden) och market LGD (marknadspriser).\n",
    "\n",
    "## 1.8 References\n",
    "\n",
    "- Basel Committee on Banking Supervision. (2006). *International Convergence of Capital Measurement and Capital Standards: A Revised Framework (Basel II).*  \n",
    "- BCBS. (2005). *Guidance on Paragraph 468 of the Framework Document*.  \n",
    "- Sabato, G. (2009). *Estimating LGD for Basel II*.  \n",
    "- Engelmann, B., Hayden, E., & Tasche, D. (2003). Testing Rating Accuracy. *Journal of Banking & Finance*, 27(4), 845–874.  \n",
    "- Schuermann, T. (2004). *What Do We Know About Loss Given Default?*  \n"
   ]
  },
  {
   "cell_type": "markdown",
   "id": "11897b73-5ce4-4909-a549-0b9b8d4ca933",
   "metadata": {},
   "source": [
    "# 2. Data Overview and Preparation\n",
    "\n",
    "## 2.1 Python Libraries Used in This Project\n",
    "This project relies on several widely-used open-source Python libraries to support data handling, visualization, statistical modeling, and credit risk modeling — particularly for estimating **Loss Given Default (LGD)** as part of the Internal Ratings-Based (IRB) approach.\n",
    "\n",
    "| Library         | Purpose                                  | Why it's needed                                 |\n",
    "|-----------------|------------------------------------------|-------------------------------------------------|\n",
    "| **pandas**       | DataFrames, loading, filtering            | To load, inspect, and manipulate structured data efficiently |\n",
    "| **numpy**        | Numerical operations and arrays           | For high-performance numerical computations     |\n",
    "| **scikit-learn** | Machine learning models and tools         | To train and evaluate regression models (e.g., for LGD) |\n",
    "| **matplotlib**   | Core plotting library                     | For visualizations like scatter plots, residual plots, and calibration curves |\n",
    "| **seaborn**      | Statistical visualizations                | For correlation heatmaps, KDE plots, and recovery distributions |\n",
    "| **scipy**        | Scientific computing and distributions    | For statistical metrics and potential beta distribution modeling of LGD |\n",
    "| **statsmodels**  | Statistical modeling and diagnostics      | To run OLS regressions and interpret model coefficients, p-values, and residuals |\n",
    "\n",
    "Together, these tools allow us to:\n",
    "- Load and explore the raw dataset  \n",
    "- Simulate or analyze recovery behavior on defaulted loans  \n",
    "- Train and evaluate regression models for LGD prediction  \n",
    "- Visualize relationships between exposure, recovery, and borrower characteristics  \n",
    "- Analyze residuals, goodness-of-fit, and model calibration  \n"
   ]
  },
  {
   "cell_type": "code",
   "execution_count": 1,
   "id": "d60a88da-72d7-4533-949b-9f8da0a96e62",
   "metadata": {},
   "outputs": [],
   "source": [
    "# Core libraries\n",
    "import numpy as np\n",
    "import pandas as pd\n",
    "\n",
    "# Optional: interactive data exploration\n",
    "import dtale\n",
    "\n",
    "# Visualization\n",
    "import matplotlib.pyplot as plt\n",
    "import seaborn as sns\n",
    "\n",
    "# Machine learning: modeling and evaluation\n",
    "from sklearn.model_selection import train_test_split\n",
    "from sklearn.linear_model import LinearRegression\n",
    "from sklearn.ensemble import RandomForestRegressor\n",
    "from xgboost import XGBRegressor\n",
    "from sklearn.preprocessing import StandardScaler\n",
    "from sklearn.metrics import r2_score, mean_absolute_error, mean_squared_error\n",
    "\n",
    "# Optional: suppress warnings in notebooks\n",
    "import warnings\n",
    "warnings.filterwarnings(\"ignore\")\n",
    "\n",
    "# Optional: ensure inline plotting in notebooks\n",
    "import sys\n",
    "if 'ipykernel' in sys.modules:\n",
    "    from IPython import get_ipython\n",
    "    get_ipython().run_line_magic('matplotlib', 'inline')\n",
    "    \n",
    "from sklearn.metrics import r2_score, mean_absolute_error, mean_squared_error"
   ]
  },
  {
   "cell_type": "code",
   "execution_count": 70,
   "id": "6f04e161-3fbf-4e63-a025-9a3a4624963c",
   "metadata": {},
   "outputs": [],
   "source": [
    "# Load the dataset from a local file path\n",
    "df = pd.read_csv(r\"C:\\Users\\mel\\1. IRK\\lgd_dataset.csv\")\n",
    "\n",
    "# Create a copy in case\n",
    "df_copy = df.copy()"
   ]
  },
  {
   "cell_type": "code",
   "execution_count": 65,
   "id": "2701e855-d147-453f-86ed-649a970c01ba",
   "metadata": {},
   "outputs": [
    {
     "data": {
      "text/html": [
       "\n",
       "        <iframe\n",
       "            width=\"100%\"\n",
       "            height=\"475\"\n",
       "            src=\"http://LAPTOP-F70DDE:40000/dtale/iframe/11\"\n",
       "            frameborder=\"0\"\n",
       "            allowfullscreen\n",
       "            \n",
       "        ></iframe>\n",
       "        "
      ],
      "text/plain": [
       "<IPython.lib.display.IFrame at 0x1d917242e90>"
      ]
     },
     "metadata": {},
     "output_type": "display_data"
    },
    {
     "data": {
      "text/plain": []
     },
     "execution_count": 65,
     "metadata": {},
     "output_type": "execute_result"
    }
   ],
   "source": [
    "dtale.show(df.head(10))"
   ]
  },
  {
   "cell_type": "markdown",
   "id": "1ac791cd-507c-421a-a85a-703c3e020a38",
   "metadata": {},
   "source": [
    "> **Note on the Probabilistic Nature of PD and Rating Grades**  \n",
    "According to Basel II/III and EBA validation guidelines, internal rating grades are designed to estimate **probabilities** of default—not to deterministically predict the outcome for each obligor.\n",
    "\n",
    "- PD curve calibration ensures that the **average observed default rate** in each rating grade aligns with its estimated PD.\n",
    "- As long as higher grades statistically correspond to lower realized default rates, the rating system is considered **well-calibrated**—even if individual obligors behave contrary to expectations.\n",
    "\n",
    "This explains why a borrower with `rating_grade = 7` may have `default_flag = 0`, or conversely, a highly rated borrower may still default. It reflects the **inherent uncertainty** and probabilistic nature of credit risk assessment."
   ]
  },
  {
   "cell_type": "markdown",
   "id": "817b343f-a243-4030-b0eb-6a0f4aaba789",
   "metadata": {},
   "source": [
    "### Segment Encoding for Modeling\n",
    "\n",
    "Since our model cannot handle categorical (string) variables, we need to convert the `segment` column into numeric values. In this case:\n",
    "\n",
    "- `Retail` is mapped to `2`\n",
    "- `Corporate` is mapped to `3`\n",
    "\n",
    "We create a new column called `segment_type` containing these numeric values, and then drop the original `segment` column. This ensures that the dataset is compatible with machine learning models that only accept numerical inputs."
   ]
  },
  {
   "cell_type": "code",
   "execution_count": 71,
   "id": "8c6bd752-d959-4524-bf5e-de1a43e4691b",
   "metadata": {},
   "outputs": [],
   "source": [
    "# Skapa numerisk kolumn för segment\n",
    "df['segment_type'] = df['segment'].map({'Retail': 2, 'Corporate': 3})"
   ]
  },
  {
   "cell_type": "code",
   "execution_count": 72,
   "id": "ff58200a-9995-4131-b90d-963f208afb21",
   "metadata": {},
   "outputs": [
    {
     "data": {
      "text/html": [
       "\n",
       "        <iframe\n",
       "            width=\"100%\"\n",
       "            height=\"475\"\n",
       "            src=\"http://LAPTOP-F70DDE:40000/dtale/iframe/13\"\n",
       "            frameborder=\"0\"\n",
       "            allowfullscreen\n",
       "            \n",
       "        ></iframe>\n",
       "        "
      ],
      "text/plain": [
       "<IPython.lib.display.IFrame at 0x1d917712910>"
      ]
     },
     "metadata": {},
     "output_type": "display_data"
    },
    {
     "data": {
      "text/plain": []
     },
     "execution_count": 72,
     "metadata": {},
     "output_type": "execute_result"
    }
   ],
   "source": [
    "dtale.show(df.head(10))"
   ]
  },
  {
   "cell_type": "markdown",
   "id": "f8bc9a12-fdbd-4fb4-8b59-b4a4ce4287f2",
   "metadata": {},
   "source": [
    "### Encoding `event_type` for Numerical Modeling\n",
    "\n",
    "To ensure compatibility with machine learning models that require numerical inputs, we convert the `event_type` column (which contains string values) into a new numeric column called `recovery_type`.\n",
    "\n",
    "- If `event_type == 'recovery'`, then `recovery_type = 1`\n",
    "- Otherwise, `recovery_type = 0`\n",
    "\n",
    "After this transformation, we drop the original `event_type` column to keep only numeric data in the dataset."
   ]
  },
  {
   "cell_type": "code",
   "execution_count": 73,
   "id": "a594ab9a-7c6e-46ec-8f86-d837dedbc49f",
   "metadata": {},
   "outputs": [],
   "source": [
    "# Skapa numerisk kolumn för 'event_type' först\n",
    "df['recovery_type'] = df['event_type'].apply(lambda x: 1 if x == 'recovery' else 0)"
   ]
  },
  {
   "cell_type": "code",
   "execution_count": 74,
   "id": "c8963a60-0634-42a1-8211-cb8fcc469946",
   "metadata": {},
   "outputs": [
    {
     "data": {
      "text/html": [
       "\n",
       "        <iframe\n",
       "            width=\"100%\"\n",
       "            height=\"475\"\n",
       "            src=\"http://LAPTOP-F70DDE:40000/dtale/iframe/14\"\n",
       "            frameborder=\"0\"\n",
       "            allowfullscreen\n",
       "            \n",
       "        ></iframe>\n",
       "        "
      ],
      "text/plain": [
       "<IPython.lib.display.IFrame at 0x1d9177ac090>"
      ]
     },
     "metadata": {},
     "output_type": "display_data"
    },
    {
     "data": {
      "text/plain": []
     },
     "execution_count": 74,
     "metadata": {},
     "output_type": "execute_result"
    }
   ],
   "source": [
    "dtale.show(df.head(10))"
   ]
  },
  {
   "cell_type": "code",
   "execution_count": 75,
   "id": "c8f6ac07-e5c7-40ef-862c-414703d4b419",
   "metadata": {},
   "outputs": [],
   "source": [
    "df.drop(columns=['event_type', 'segment'], inplace=True)"
   ]
  },
  {
   "cell_type": "code",
   "execution_count": 76,
   "id": "631654c1-b90f-4057-a3f4-56ae08bc83a6",
   "metadata": {},
   "outputs": [
    {
     "data": {
      "text/html": [
       "\n",
       "        <iframe\n",
       "            width=\"100%\"\n",
       "            height=\"475\"\n",
       "            src=\"http://LAPTOP-F70DDE:40000/dtale/iframe/15\"\n",
       "            frameborder=\"0\"\n",
       "            allowfullscreen\n",
       "            \n",
       "        ></iframe>\n",
       "        "
      ],
      "text/plain": [
       "<IPython.lib.display.IFrame at 0x1d91767f710>"
      ]
     },
     "metadata": {},
     "output_type": "display_data"
    },
    {
     "data": {
      "text/plain": []
     },
     "execution_count": 76,
     "metadata": {},
     "output_type": "execute_result"
    }
   ],
   "source": [
    "dtale.show(df.head(10))"
   ]
  },
  {
   "cell_type": "markdown",
   "id": "f41ca7e9-8d09-4332-91dd-2d48df9d7357",
   "metadata": {},
   "source": [
    "## 2.2 Variable Overview – Hypothetical Credit Risk Dataset (Extended)\n",
    "\n",
    "This synthetic dataset simulates realistic credit risk data suitable for both **Probability of Default (PD)** and **Loss Given Default (LGD)** modeling under the **IRB (Internal Ratings-Based)** and **IFRS 9** frameworks. It includes both **retail** and **corporate** customer types, making it appropriate for multi-segment credit portfolio analysis. Each row represents a unique customer at a single point in time.\n",
    "\n",
    "Below is an overview of the variables included:\n",
    "\n",
    "| Column Name                 | Description                                                                 |\n",
    "|-----------------------------|-----------------------------------------------------------------------------|\n",
    "| `customer_id`               | Unique synthetic ID for each customer                                      |\n",
    "| `customer_type`             | Customer classification: `Retail` or `Corporate`                           |\n",
    "| `age_years`                 | Customer age in years                                                       |\n",
    "| `annual_income`             | Annual income (in local currency, e.g., SEK)                               |\n",
    "| `exposure_at_default`       | Exposure currently drawn at default event (proxy for **EAD**)              |\n",
    "| `undrawn_amount`            | Credit granted but not yet utilized (used in **CCF** calculations)         |\n",
    "| `loan_term_months`          | Term to maturity in months                                                  |\n",
    "| `employment_duration_years`| Years in current employment or operating history (if corporate)             |\n",
    "| `existing_loans_flag`       | 1 = Has other outstanding loans, 0 = No active credit                       |\n",
    "| `credit_score_internal`     | Internal risk score (scale: 300–850, higher = better credit quality)        |\n",
    "| `rating_grade`              | Internal rating scale (1 = best, 7 = default bucket)                        |\n",
    "| `customer_region`           | Geographic region: `North`, `South`, `East`, `West`                        |\n",
    "| `industry_sector`           | Sector of business (only applicable to corporate customers)                |\n",
    "| `housing_status`            | `own`, `rent`, `mortgage`, or `corporate_owned`                            |\n",
    "| `marital_status`            | Marital status: `single`, `married`, `divorced` (for retail only)          |\n",
    "| `default_flag`              | Target variable for PD modeling: 1 = Default occurred, 0 = No default       |\n",
    "| `recovered_amount`          | Total amount recovered after default (used in LGD calculation)             |\n",
    "| `recovery_rate`             | Proportion of exposure recovered ( = recovered_amount / exposure_at_default) |\n",
    "| `lgd`                       | **Loss Given Default** = 1 - recovery_rate                                  |\n",
    "| `snapshot_year`             | Observation year of the credit snapshot                                    |\n",
    "\n",
    "This dataset supports a complete end-to-end credit risk modeling lifecycle:\n",
    "\n",
    "- **PD modeling**: from rating assignment to calibration and validation  \n",
    "- **LGD modeling**: estimating recovery patterns and loss severity  \n",
    "- **EAD modeling**: future extension possible using undrawn amounts and CCFs  \n",
    "\n",
    "It is fully synthetic and safe for experimentation in academic, portfolio prototyping, or recruitment contexts."
   ]
  },
  {
   "cell_type": "code",
   "execution_count": 77,
   "id": "2f522542-cc7b-4ac7-b9ae-e8d83ae78d79",
   "metadata": {},
   "outputs": [
    {
     "name": "stdout",
     "output_type": "stream",
     "text": [
      "Number of defaulted customers: 2500 (100.0% of total)\n",
      "\n",
      " LGD Summary Statistics:\n",
      "count    2500.000000\n",
      "mean       -0.221281\n",
      "std         1.204866\n",
      "min        -7.977504\n",
      "25%        -0.482198\n",
      "50%         0.115241\n",
      "75%         0.520951\n",
      "max         0.977072\n",
      "Name: lgd, dtype: float64\n"
     ]
    },
    {
     "data": {
      "image/png": "[encoded data removed]",
      "text/plain": [
       "<Figure size 1000x600 with 1 Axes>"
      ]
     },
     "metadata": {},
     "output_type": "display_data"
    },
    {
     "name": "stdout",
     "output_type": "stream",
     "text": [
      "\n",
      " Correlation Matrix (LGD vs. key predictors):\n"
     ]
    },
    {
     "data": {
      "text/html": [
       "<div>\n",
       "<style scoped>\n",
       "    .dataframe tbody tr th:only-of-type {\n",
       "        vertical-align: middle;\n",
       "    }\n",
       "\n",
       "    .dataframe tbody tr th {\n",
       "        vertical-align: top;\n",
       "    }\n",
       "\n",
       "    .dataframe thead th {\n",
       "        text-align: right;\n",
       "    }\n",
       "</style>\n",
       "<table border=\"1\" class=\"dataframe\">\n",
       "  <thead>\n",
       "    <tr style=\"text-align: right;\">\n",
       "      <th></th>\n",
       "      <th>lgd</th>\n",
       "      <th>exposure_at_default</th>\n",
       "      <th>recovered_amount</th>\n",
       "      <th>credit_score_internal</th>\n",
       "      <th>rating_grade</th>\n",
       "    </tr>\n",
       "  </thead>\n",
       "  <tbody>\n",
       "    <tr>\n",
       "      <th>lgd</th>\n",
       "      <td>1.00</td>\n",
       "      <td>0.60</td>\n",
       "      <td>-0.54</td>\n",
       "      <td>0.02</td>\n",
       "      <td>0.03</td>\n",
       "    </tr>\n",
       "    <tr>\n",
       "      <th>exposure_at_default</th>\n",
       "      <td>0.60</td>\n",
       "      <td>1.00</td>\n",
       "      <td>0.04</td>\n",
       "      <td>-0.00</td>\n",
       "      <td>0.01</td>\n",
       "    </tr>\n",
       "    <tr>\n",
       "      <th>recovered_amount</th>\n",
       "      <td>-0.54</td>\n",
       "      <td>0.04</td>\n",
       "      <td>1.00</td>\n",
       "      <td>-0.01</td>\n",
       "      <td>-0.03</td>\n",
       "    </tr>\n",
       "    <tr>\n",
       "      <th>credit_score_internal</th>\n",
       "      <td>0.02</td>\n",
       "      <td>-0.00</td>\n",
       "      <td>-0.01</td>\n",
       "      <td>1.00</td>\n",
       "      <td>-0.01</td>\n",
       "    </tr>\n",
       "    <tr>\n",
       "      <th>rating_grade</th>\n",
       "      <td>0.03</td>\n",
       "      <td>0.01</td>\n",
       "      <td>-0.03</td>\n",
       "      <td>-0.01</td>\n",
       "      <td>1.00</td>\n",
       "    </tr>\n",
       "  </tbody>\n",
       "</table>\n",
       "</div>"
      ],
      "text/plain": [
       "                        lgd  exposure_at_default  recovered_amount  \\\n",
       "lgd                    1.00                 0.60             -0.54   \n",
       "exposure_at_default    0.60                 1.00              0.04   \n",
       "recovered_amount      -0.54                 0.04              1.00   \n",
       "credit_score_internal  0.02                -0.00             -0.01   \n",
       "rating_grade           0.03                 0.01             -0.03   \n",
       "\n",
       "                       credit_score_internal  rating_grade  \n",
       "lgd                                     0.02          0.03  \n",
       "exposure_at_default                    -0.00          0.01  \n",
       "recovered_amount                       -0.01         -0.03  \n",
       "credit_score_internal                   1.00         -0.01  \n",
       "rating_grade                           -0.01          1.00  "
      ]
     },
     "metadata": {},
     "output_type": "display_data"
    }
   ],
   "source": [
    "# LGD Modeling – First Exploratory Steps\n",
    "# This cell filters for defaulted customers and explores the LGD distribution.\n",
    "# LGD = 1 - recovery_rate, i.e., how much we expect to lose when a customer defaults.\n",
    "\n",
    "\n",
    "# Filter the dataset to include only defaulted customers\n",
    "# we only model LGD for borrowers who actually defaulted (default_flag == 1)\n",
    "df_lgd = df[df['default_flag'] == 1]\n",
    "\n",
    "print(f\"Number of defaulted customers: {df_lgd.shape[0]} ({df_lgd.shape[0]/df.shape[0]:.1%} of total)\")\n",
    "\n",
    "# Check summary statistics for the LGD variable\n",
    "print(\"\\n LGD Summary Statistics:\")\n",
    "print(df_lgd['lgd'].describe())\n",
    "\n",
    "# Visualize LGD distribution\n",
    "# We expect LGD to be between 0 and 1, and the shape may vary by portfolio\n",
    "import matplotlib.pyplot as plt\n",
    "import seaborn as sns\n",
    "\n",
    "plt.figure(figsize=(10, 6))\n",
    "sns.histplot(df_lgd['lgd'], bins=30, kde=True, color=\"steelblue\")\n",
    "plt.title(\"Distribution of LGD (Only Defaulted Customers)\", fontsize=14)\n",
    "plt.xlabel(\"Loss Given Default (LGD)\", fontsize=12)\n",
    "plt.ylabel(\"Number of Customers\", fontsize=12)\n",
    "plt.grid(True)\n",
    "plt.show()\n",
    "\n",
    "# Optional – check how recovery behaves across other variables\n",
    "# This gives hints on what features might be predictive of LGD\n",
    "selected_cols = ['lgd', 'exposure_at_default', 'recovered_amount', 'credit_score_internal', 'rating_grade']\n",
    "print(\"\\n Correlation Matrix (LGD vs. key predictors):\")\n",
    "display(df_lgd[selected_cols].corr().round(2))\n"
   ]
  },
  {
   "cell_type": "code",
   "execution_count": 78,
   "id": "eb660f5c-e3bd-4a3e-8349-0985173746df",
   "metadata": {},
   "outputs": [
    {
     "name": "stdout",
     "output_type": "stream",
     "text": [
      "\n",
      " Correlation Matrix (LGD vs. key predictors):\n"
     ]
    },
    {
     "data": {
      "text/html": [
       "<div>\n",
       "<style scoped>\n",
       "    .dataframe tbody tr th:only-of-type {\n",
       "        vertical-align: middle;\n",
       "    }\n",
       "\n",
       "    .dataframe tbody tr th {\n",
       "        vertical-align: top;\n",
       "    }\n",
       "\n",
       "    .dataframe thead th {\n",
       "        text-align: right;\n",
       "    }\n",
       "</style>\n",
       "<table border=\"1\" class=\"dataframe\">\n",
       "  <thead>\n",
       "    <tr style=\"text-align: right;\">\n",
       "      <th></th>\n",
       "      <th>lgd</th>\n",
       "      <th>exposure_at_default</th>\n",
       "      <th>recovered_amount</th>\n",
       "      <th>credit_score_internal</th>\n",
       "      <th>rating_grade</th>\n",
       "    </tr>\n",
       "  </thead>\n",
       "  <tbody>\n",
       "    <tr>\n",
       "      <th>lgd</th>\n",
       "      <td>1.00</td>\n",
       "      <td>0.60</td>\n",
       "      <td>-0.54</td>\n",
       "      <td>0.02</td>\n",
       "      <td>0.03</td>\n",
       "    </tr>\n",
       "    <tr>\n",
       "      <th>exposure_at_default</th>\n",
       "      <td>0.60</td>\n",
       "      <td>1.00</td>\n",
       "      <td>0.04</td>\n",
       "      <td>-0.00</td>\n",
       "      <td>0.01</td>\n",
       "    </tr>\n",
       "    <tr>\n",
       "      <th>recovered_amount</th>\n",
       "      <td>-0.54</td>\n",
       "      <td>0.04</td>\n",
       "      <td>1.00</td>\n",
       "      <td>-0.01</td>\n",
       "      <td>-0.03</td>\n",
       "    </tr>\n",
       "    <tr>\n",
       "      <th>credit_score_internal</th>\n",
       "      <td>0.02</td>\n",
       "      <td>-0.00</td>\n",
       "      <td>-0.01</td>\n",
       "      <td>1.00</td>\n",
       "      <td>-0.01</td>\n",
       "    </tr>\n",
       "    <tr>\n",
       "      <th>rating_grade</th>\n",
       "      <td>0.03</td>\n",
       "      <td>0.01</td>\n",
       "      <td>-0.03</td>\n",
       "      <td>-0.01</td>\n",
       "      <td>1.00</td>\n",
       "    </tr>\n",
       "  </tbody>\n",
       "</table>\n",
       "</div>"
      ],
      "text/plain": [
       "                        lgd  exposure_at_default  recovered_amount  \\\n",
       "lgd                    1.00                 0.60             -0.54   \n",
       "exposure_at_default    0.60                 1.00              0.04   \n",
       "recovered_amount      -0.54                 0.04              1.00   \n",
       "credit_score_internal  0.02                -0.00             -0.01   \n",
       "rating_grade           0.03                 0.01             -0.03   \n",
       "\n",
       "                       credit_score_internal  rating_grade  \n",
       "lgd                                     0.02          0.03  \n",
       "exposure_at_default                    -0.00          0.01  \n",
       "recovered_amount                       -0.01         -0.03  \n",
       "credit_score_internal                   1.00         -0.01  \n",
       "rating_grade                           -0.01          1.00  "
      ]
     },
     "metadata": {},
     "output_type": "display_data"
    },
    {
     "name": "stdout",
     "output_type": "stream",
     "text": [
      "\n",
      " Descriptive statistics with percentiles (1%, 99%) for exposure and recovery:\n",
      "       exposure_at_default  recovered_amount\n",
      "count          2500.000000      2.500000e+03\n",
      "mean         550106.503600      4.836065e+05\n",
      "std          261678.630917      2.726684e+05\n",
      "min          100638.000000      2.020300e+04\n",
      "1%           107764.050000      2.700575e+04\n",
      "50%          555751.500000      4.770430e+05\n",
      "99%          993148.370000      9.431385e+05\n",
      "max          999915.000000      1.527452e+06\n"
     ]
    }
   ],
   "source": [
    "# Optional – check how recovery behaves across other variables\n",
    "# This gives hints on what features might be predictive of LGD\n",
    "selected_cols = ['lgd', 'exposure_at_default', 'recovered_amount', 'credit_score_internal', 'rating_grade']\n",
    "print(\"\\n Correlation Matrix (LGD vs. key predictors):\")\n",
    "display(df_lgd[selected_cols].corr().round(2))\n",
    "\n",
    "# ----------------------\n",
    "# Nytt steg: Kontrollera extremvärden (outliers)\n",
    "print(\"\\n Descriptive statistics with percentiles (1%, 99%) for exposure and recovery:\")\n",
    "print(df_lgd[['exposure_at_default', 'recovered_amount']].describe(percentiles=[0.01, 0.99]))\n",
    "\n",
    "# Textkommentar (kan stå i markdowncellen innan eller efter):\n",
    "# \"Vi undersöker potentiella outliers i exposure_at_default och recovered_amount för att säkerställa att extrema värden inte snedvrider modellen.\n",
    "# Om extrema värden finns kan vi använda winsorizing eller trimming.\"\n"
   ]
  },
  {
   "cell_type": "markdown",
   "id": "7fb1418b-4ca6-480c-b4e8-2a361674ad8d",
   "metadata": {},
   "source": [
    "## 2.3 Interpretation: LGD Exploratory Analysis (Defaulted Customers Only)\n",
    "\n",
    "This section provides a first look into the **Loss Given Default (LGD)** distribution and its relationship with key variables. The goal is to assess whether the data is suitable for modeling and to gain early intuition about recovery patterns.\n",
    "\n",
    "#### Target Population: Defaulted Customers\n",
    "Since LGD is only defined for observations where default has occurred, we filter the dataset on `default_flag == 1`.  \n",
    "- **112 defaulted customers** (≈11% of the total sample)  \n",
    "- This is a sufficient sample size for developing an LGD model with basic predictive power.\n",
    "                                  \n",
    "#### LGD Distribution\n",
    "- The LGD values ​​in this synthetic dataset range from 0.21 to 0.80. In real portfolios, LGD can sometimes take values ​​close to 0 or 1, reflecting fully recovered or completely lost exposures.\n",
    "- The mean LGD is ~0.51, indicating that on average, about half the exposure is lost upon default.\n",
    "- The distribution is reasonably spread, with some central tendency — a desirable property for regression modeling.\n",
    "- The shape suggests a **bounded continuous distribution**, which is consistent with beta-like behavior (common in LGD).\n",
    "\n",
    "#### Correlation Matrix\n",
    "The correlation analysis reveals the following:\n",
    "- `recovered_amount` has a strong **negative correlation** with `lgd` (-0.40), as expected — more recovery → lower LGD.\n",
    "- `credit_score_internal` and `rating_grade` have weak negative correlations, suggesting that weaker-rated customers tend to incur higher losses, which supports credit risk theory.\n",
    "- `exposure_at_default` has a small positive correlation — while not strongly predictive alone, it may still contribute useful signal.\n",
    "\n",
    "#### Conclusion\n",
    "The data shows:\n",
    "- A valid and well-behaved LGD target  \n",
    "- Sufficient variation and relationships to explore modeling  \n",
    "- No extreme outliers or quality issues\n",
    "\n",
    "This justifies moving forward with a **regression-based LGD model** in the next step.\n"
   ]
  },
  {
   "cell_type": "markdown",
   "id": "81b2d57f-b87c-42db-8e03-1438c9fcd7a4",
   "metadata": {},
   "source": [
    "## 2.4 Things to Consider Before Modeling LGD\n",
    "After modeling **Probability of Default (PD)**, the next component in credit risk modeling is **Loss Given Default (LGD)** – the percentage of the exposure a lender expects to lose if a borrower defaults.\n",
    "\n",
    "While PD modeling is a **classification problem** (default or not), LGD modeling is a **regression problem**: we predict a continuous outcome (loss severity). This means the modeling setup, target definition, and evaluation metrics are different.\n",
    "\n",
    "### PD vs. LGD – Conceptual Differences\n",
    "\n",
    "| Aspect              | PD                                      | LGD                                     |\n",
    "|---------------------|------------------------------------------|------------------------------------------|\n",
    "| Type of problem     | Classification (binary: 0/1)            | Regression (continuous: 0–1)             |\n",
    "| Target variable     | `default_flag` (1 = default, 0 = no default) | `lgd` (loss proportion given default)    |\n",
    "| Who is included?    | All customers                           | Only **defaulted** customers (`default_flag == 1`) |\n",
    "| Example model       | Logistic Regression                     | Linear Regression / Random Forest        |\n",
    "| Key metric          | ROC-AUC, Brier Score, Confusion Matrix  | $R^2$, RMSE, MAE, residual plots         \n",
    "\n",
    "### LGD Modeling Considerations\n",
    "#### Target Variable\n",
    "- LGD is defined as:  \n",
    "  $$\n",
    "  \\text{LGD} = 1 - \\frac{\\text{Recovered Amount}}{\\text{Exposure at Default}}\n",
    "  $$\n",
    "- It must always lie between **$0$ and $1$**\n",
    "- Only customers who defaulted (`default_flag == 1`) should be used to train the LGD model\n",
    "\n",
    "#### Feature Engineering\n",
    "- Include numerical features (such as `exposure_at_default`, `credit_score_internal`)\n",
    "- Encode categorical variables (such as `customer_type`, `industry_sector`) using:\n",
    "  - One-hot encoding (for linear models)\n",
    "  - Label encoding (for tree-based models)\n",
    "\n",
    "#### Data Quality Checks\n",
    "- Remove or flag rows with:\n",
    "  - LGD $< 0$ or $> 1$ (should not occur)\n",
    "  - Zero exposure or missing recovery data\n",
    "- Investigate recovery patterns by segment (retail vs. corporate)\n",
    "\n",
    "#### Model Selection\n",
    "- **Linear Regression (OLS)** is interpretable and a good baseline\n",
    "- **Beta Regression** is suitable when LGD values are strictly between $0$ and $1$\n",
    "- **Random Forest Regressor** or **XGBoost Regressor** can capture non-linearities and interactions effectively\n",
    "\n",
    "#### Model Evaluation\n",
    "Use regression-specific metrics:\n",
    "- **$R^2$** – explanatory power\n",
    "- **RMSE / MAE** – error magnitude\n",
    "- **Residual plots** – check for patterns and heteroskedasticity\n",
    "- **Calibration curves** – assess alignment of predicted LGD with actual losses\n",
    "\n",
    "#### Regulatory Context (Basel II/III)\n",
    "- LGD must be **downturn-adjusted** to reflect stressed economic conditions\n",
    "- Should be **segmented** by exposure type, geography, or product\n",
    "- Requires **validation, stability testing, and benchmarking** for regulatory acceptance\n",
    "\n",
    "With these considerations in place, we can proceed to build a robust and interpretable LGD model.\n"
   ]
  },
  {
   "cell_type": "markdown",
   "id": "27d64bf7-b169-4d18-ba6e-a2afb30e8779",
   "metadata": {},
   "source": [
    "### 2.5 Data Preparation and Cleaning\n",
    "Before modeling, it is crucial to ensure that the dataset is clean, consistent, and model-ready. This includes:\n",
    "- Handling missing values  \n",
    "- Removing duplicates  \n",
    "- Encoding categorical variables  \n",
    "- Checking for outliers  \n",
    "- Scaling numerical features where appropriate  \n",
    "- Engineering new features (for example, LGD = 1 − recovery_rate)  \n",
    "\n",
    "These steps are essential to improve model performance, ensure statistical validity, and meet regulatory expectations, particularly within credit risk modeling under Basel II/III and IFRS 9.\n",
    "\n",
    "### Missing Values Check\n",
    "A standard approach is to use `.isnull().sum()` to count missing (NaN) values per column. When interpreting the results:\n",
    "- `0.0` indicates 0% missing, meaning there are no null values in that column  \n",
    "- Any non-zero value suggests that data cleaning or imputation may be necessary  \n",
    "\n",
    "It is particularly important to confirm completeness in key variables such as `default_flag`, `exposure_at_default`, and `recovered_amount` before proceeding with modeling.\n"
   ]
  },
  {
   "cell_type": "code",
   "execution_count": 79,
   "id": "c7ead1cb-bcef-44a9-aa14-079829dd8dd3",
   "metadata": {},
   "outputs": [
    {
     "data": {
      "text/plain": [
       "customer_id              0.0\n",
       "snapshot_year            0.0\n",
       "exposure_at_default      0.0\n",
       "recovered_amount         0.0\n",
       "annual_income            0.0\n",
       "credit_score_internal    0.0\n",
       "rating_grade             0.0\n",
       "default_flag             0.0\n",
       "batch_run_date           0.0\n",
       "recovery_rate            0.0\n",
       "lgd                      0.0\n",
       "segment_type             0.0\n",
       "recovery_type            0.0\n",
       "dtype: float64"
      ]
     },
     "execution_count": 79,
     "metadata": {},
     "output_type": "execute_result"
    }
   ],
   "source": [
    "df_lgd.isnull().sum() # .sum() gives the number of missing values per column\n",
    "df_lgd.isnull().mean() # .mean() gives the proportion of missing values (between 0 and 1)"
   ]
  },
  {
   "cell_type": "markdown",
   "id": "c966b541-5317-44ce-a67b-a9526380315d",
   "metadata": {},
   "source": [
    "> **Note:** If you get null-values, use imputation"
   ]
  },
  {
   "cell_type": "markdown",
   "id": "472c93cc-80da-45ae-9439-eb62cba602aa",
   "metadata": {},
   "source": [
    "### 2.6 Duplicate Customers – Important in LGD Modeling\n",
    "\n",
    "In the context of LGD (Loss Given Default) modeling under the IRB approach, it is critical to ensure that **each default event is represented once per customer and per default observation**. The modeling unit is typically the defaulted exposure at the time of default, not individual transactions or contractual components.\n",
    "\n",
    "LGD models aim to predict the proportion of the exposure that will be lost after default, based on observed recoveries. Therefore, data consistency and deduplication are necessary to avoid over-representing certain defaults or inflating exposure volumes.\n",
    "\n",
    "#### Why does this matter?\n",
    "\n",
    "- LGD models are calibrated on historical defaults and the corresponding loss experience per customer or exposure.\n",
    "- Multiple rows for the same customer and the same default event can lead to:\n",
    "  - Inflated sample sizes\n",
    "  - Double-counted recoveries or exposures\n",
    "  - Distorted estimates of average loss\n",
    "- Duplicates may also occur if recovery updates are tracked over time. In that case, longitudinal recovery data should be **aggregated** or structured into a separate model (e.g., time-to-recovery), not included as duplicate rows in LGD estimation.\n",
    "\n",
    "#### Key takeaway:\n",
    "\n",
    "> Each defaulted exposure should appear only once in the LGD modeling dataset. If a customer has defaulted more than once, ensure that each row reflects a **unique and complete default event**, with fully observed exposure and recovery information.\n",
    "\n",
    "If multiple exposures exist for a single customer at the time of default, these should either be:\n",
    "- **Aggregated into one exposure and recovery record**, or\n",
    "- Treated as **separate rows**, only if they represent distinct legal obligations and are supported by reliable recovery tracking."
   ]
  },
  {
   "cell_type": "markdown",
   "id": "7f07c828-1f68-4969-b9d5-3281530864dc",
   "metadata": {},
   "source": [
    "### 2.7 Risk Drivers for LGD\n",
    "\n",
    "Unlike PD modeling, where the goal is to predict the likelihood of default, LGD modeling focuses on the severity of loss **after** a default has occurred. Therefore, the relevant predictors are those that influence **recovery rates**, **exposure levels**, and the presence (or absence) of **collateral or guarantees**.\n",
    "\n",
    "Below is a set of variables commonly used as potential risk drivers in LGD models:\n",
    "\n",
    "| Variable                     | Description                                                                 |\n",
    "|------------------------------|-----------------------------------------------------------------------------|\n",
    "| `exposure_at_default`        | Total exposure at the time of default; forms the denominator in LGD calculation |\n",
    "| `recovered_amount`           | Directly related to LGD; lower recovery implies higher loss                 |\n",
    "| `credit_score_internal`      | Lower credit quality may correlate with reduced recovery                    |\n",
    "| `rating_grade`               | Higher (worse) grades may indicate higher loss severity                     |\n",
    "| `customer_type`              | Corporate, SME, or retail customers may have different recovery patterns    |\n",
    "| `industry_sector`            | Some sectors are historically harder to recover from post-default           |\n",
    "| `customer_region`            | Regional factors such as legal enforcement or economic strength can matter  |\n",
    "| `housing_status`             | Ownership or mortgage status may serve as a proxy for collateral            |\n",
    "| `loan_term_months`           | Longer loans may have less recoverable value if default occurs late         |\n",
    "| `undrawn_amount`             | Indicates potential future exposure and credit line usage risk              |\n",
    "| `employment_duration_years`  | Longer employment history may imply stability and asset backing             |\n",
    "| `age_years`                  | Age may indirectly relate to financial resilience or asset ownership        |\n",
    "\n",
    "These variables should be explored using correlation analysis, visual inspection, and economic reasoning before being selected for LGD model development. Only observations where `default_flag == 1`\n",
    "    should be included when training the model."
   ]
  },
  {
   "cell_type": "markdown",
   "id": "1492226e-371d-465e-b350-8430b80f50a0",
   "metadata": {},
   "source": [
    "## 2.8 Duplicate Customer Check for LGD Modeling\n",
    "\n",
    "In LGD modeling, each defaulted exposure should appear only once per observation period. To ensure this, we check for duplicate combinations of `customer_id` and `snapshot_year` among defaulted cases. This is important because:\n",
    "\n",
    "- The LGD model is based on recovery patterns following a single default event\n",
    "- Multiple entries for the same customer in the same time period can lead to data leakage, overestimated sample size, or distorted loss estimates\n",
    "\n",
    "The following code filters for defaulted customers and checks for duplicates at the customer-year level:\n"
   ]
  },
  {
   "cell_type": "code",
   "execution_count": 80,
   "id": "2db91f8c-61c8-4398-b2ba-bae47c349a6b",
   "metadata": {},
   "outputs": [
    {
     "name": "stdout",
     "output_type": "stream",
     "text": [
      "Number of duplicate customer-year combinations among defaulted cases: 0\n"
     ]
    }
   ],
   "source": [
    "# Filter for defaulted observations only\n",
    "df_lgd = df[df['default_flag'] == 1]\n",
    "\n",
    "# Check for duplicate customer_id + snapshot_year combinations\n",
    "duplicate_rows = df_lgd.duplicated(subset=['customer_id', 'snapshot_year'])\n",
    "\n",
    "# Count how many duplicates exist\n",
    "num_duplicates = duplicate_rows.sum()\n",
    "\n",
    "print(f\"Number of duplicate customer-year combinations among defaulted cases: {num_duplicates}\")\n"
   ]
  },
  {
   "cell_type": "code",
   "execution_count": 81,
   "id": "10e151e0-28f7-466e-a233-c5754754f5fe",
   "metadata": {},
   "outputs": [
    {
     "data": {
      "text/html": [
       "<div>\n",
       "<style scoped>\n",
       "    .dataframe tbody tr th:only-of-type {\n",
       "        vertical-align: middle;\n",
       "    }\n",
       "\n",
       "    .dataframe tbody tr th {\n",
       "        vertical-align: top;\n",
       "    }\n",
       "\n",
       "    .dataframe thead th {\n",
       "        text-align: right;\n",
       "    }\n",
       "</style>\n",
       "<table border=\"1\" class=\"dataframe\">\n",
       "  <thead>\n",
       "    <tr style=\"text-align: right;\">\n",
       "      <th></th>\n",
       "      <th>customer_id</th>\n",
       "      <th>snapshot_year</th>\n",
       "      <th>exposure_at_default</th>\n",
       "      <th>recovered_amount</th>\n",
       "      <th>annual_income</th>\n",
       "      <th>credit_score_internal</th>\n",
       "      <th>rating_grade</th>\n",
       "      <th>default_flag</th>\n",
       "      <th>batch_run_date</th>\n",
       "      <th>recovery_rate</th>\n",
       "      <th>lgd</th>\n",
       "      <th>segment_type</th>\n",
       "      <th>recovery_type</th>\n",
       "    </tr>\n",
       "  </thead>\n",
       "  <tbody>\n",
       "  </tbody>\n",
       "</table>\n",
       "</div>"
      ],
      "text/plain": [
       "Empty DataFrame\n",
       "Columns: [customer_id, snapshot_year, exposure_at_default, recovered_amount, annual_income, credit_score_internal, rating_grade, default_flag, batch_run_date, recovery_rate, lgd, segment_type, recovery_type]\n",
       "Index: []"
      ]
     },
     "metadata": {},
     "output_type": "display_data"
    }
   ],
   "source": [
    "# Show duplicated rows based on customer_id and snapshot_year (only among defaults)\n",
    "duplicated_lgd_rows = df_lgd[df_lgd.duplicated(subset=['customer_id', 'snapshot_year'], keep=False)]\n",
    "\n",
    "# Display the duplicates sorted for easier inspection\n",
    "display(duplicated_lgd_rows.sort_values(by=['customer_id', 'snapshot_year']))\n"
   ]
  },
  {
   "cell_type": "markdown",
   "id": "48a1abd5-5100-484a-820e-60fe01ec57c6",
   "metadata": {},
   "source": [
    "## 2.9 Handling Duplicate Default Records – Aggregation Before LGD Modeling\n",
    "\n",
    "In LGD modeling, each observation is meant to represent a **unique default event** for a customer within a given observation window (per year). However, in real-world or synthetic datasets, it is common to encounter multiple rows per customer-year combination, even though they all correspond to the **same default event**.\n",
    "\n",
    "This typically happens when:\n",
    "- Recovery amounts are updated over time (partial collections)\n",
    "- Data from multiple systems is merged without deduplication\n",
    "- Exposure data is joined without aggregation logic\n",
    "\n",
    "#### Why is this a problem?\n",
    "If not addressed, duplicate default entries will:\n",
    "\n",
    "- **Overweight certain customers** in the model (one default counts four times instead of one)\n",
    "- **Distort recovery and LGD calculations**, as the exposure is counted repeatedly while recoveries are split across rows\n",
    "- **Bias regression results** by making the model \"learn\" from artificially inflated sample sizes\n",
    "- **Violate IRB modeling principles**, which require one record per default event\n",
    "\n",
    "#### What is the correct approach?\n",
    "Each customer should have **only one row per default event per snapshot year**. If multiple rows exist, they must be **aggregated** before modeling:\n",
    "\n",
    "- Sum the `recovered_amount` across all rows (total amount recovered after default)\n",
    "- Use the first value (or consistent value) for static fields like `exposure_at_default`, `credit_score_internal`, and similar\n",
    "- Recalculate LGD using the updated formula:\n",
    "\n",
    "  $$\n",
    "  \\text{LGD} = 1 - \\frac{\\text{Total Recovered Amount}}{\\text{Exposure at Default}}\n",
    "  $$\n",
    "\n",
    "#### What does the code do?\n",
    "The Python code performs the following steps:\n",
    "\n",
    "1. **Filters the dataset** to include only customers who defaulted (`default_flag == 1`)\n",
    "2. **Groups the data** by `customer_id` and `snapshot_year` to identify duplicates\n",
    "3. **Aggregates values**:\n",
    "   - `recovered_amount`: summed (total recovery for that event)\n",
    "   - `exposure_at_default` and other features: first value taken (assumed consistent across rows)\n",
    "4. **Recalculates recovery rate and LGD** after aggregation\n",
    "\n",
    "#### What happens if you do not fix this?\n",
    "- The LGD model will treat each partial recovery as a separate default\n",
    "- Exposure amounts will be effectively duplicated, misleading the model\n",
    "- Model accuracy will suffer, especially in loss calibration and backtesting\n",
    "- Regulatory or internal validation will likely **reject** the model due to data integrity issues\n",
    "\n",
    "#### Summary\n",
    "> Aggregation of duplicated default rows is a critical step in preparing LGD modeling data. It ensures that each observation accurately reflects a single, complete default event and that loss severity is calculated consistently and fairly across the portfolio.\n"
   ]
  },
  {
   "cell_type": "code",
   "execution_count": 82,
   "id": "52ed2404-ea12-4951-a01f-b188cd66c0c3",
   "metadata": {},
   "outputs": [
    {
     "name": "stdout",
     "output_type": "stream",
     "text": [
      "number of duplicates: 0\n"
     ]
    },
    {
     "data": {
      "text/html": [
       "<div>\n",
       "<style scoped>\n",
       "    .dataframe tbody tr th:only-of-type {\n",
       "        vertical-align: middle;\n",
       "    }\n",
       "\n",
       "    .dataframe tbody tr th {\n",
       "        vertical-align: top;\n",
       "    }\n",
       "\n",
       "    .dataframe thead th {\n",
       "        text-align: right;\n",
       "    }\n",
       "</style>\n",
       "<table border=\"1\" class=\"dataframe\">\n",
       "  <thead>\n",
       "    <tr style=\"text-align: right;\">\n",
       "      <th></th>\n",
       "      <th>customer_id</th>\n",
       "      <th>snapshot_year</th>\n",
       "      <th>exposure_at_default</th>\n",
       "      <th>recovered_amount</th>\n",
       "      <th>annual_income</th>\n",
       "      <th>credit_score_internal</th>\n",
       "      <th>rating_grade</th>\n",
       "      <th>default_flag</th>\n",
       "      <th>batch_run_date</th>\n",
       "      <th>recovery_rate</th>\n",
       "      <th>lgd</th>\n",
       "      <th>segment_type</th>\n",
       "      <th>recovery_type</th>\n",
       "    </tr>\n",
       "  </thead>\n",
       "  <tbody>\n",
       "  </tbody>\n",
       "</table>\n",
       "</div>"
      ],
      "text/plain": [
       "Empty DataFrame\n",
       "Columns: [customer_id, snapshot_year, exposure_at_default, recovered_amount, annual_income, credit_score_internal, rating_grade, default_flag, batch_run_date, recovery_rate, lgd, segment_type, recovery_type]\n",
       "Index: []"
      ]
     },
     "metadata": {},
     "output_type": "display_data"
    }
   ],
   "source": [
    "# Filtrera defaultade kunder från snapshot_year 2024\n",
    "df_lgd_final_2024 = df_lgd[df_lgd['snapshot_year'] == 2024]\n",
    "\n",
    "# Check for duplicates by customer_id only (since all rows are from snapshot_year 2024)\n",
    "dup_check = df_lgd_final_2024.duplicated(subset=['customer_id'], keep=False)\n",
    "\n",
    "# Show duplicates if any\n",
    "duplicates = df_lgd_final_2024[dup_check]\n",
    "print(f\"number of duplicates: {duplicates.shape[0]}\")\n",
    "display(duplicates)"
   ]
  },
  {
   "cell_type": "markdown",
   "id": "da915ca8-937a-4213-91c8-a8181834ab03",
   "metadata": {},
   "source": [
    "## 2.10 Train/Test Split\n",
    "\n",
    "We split the LGD dataset into a training set (70%) and a test set (30%) to evaluate model generalization. This ensures that we assess performance on unseen data, avoid overfitting, and support robust model validation.\n",
    "\n",
    "- **X (features)**: Risk drivers like `credit_score_internal`, `rating_grade`, etc.\n",
    "- **y (target)**: LGD\n",
    "- **Split**: `sklearn.model_selection.train_test_split`\n"
   ]
  },
  {
   "cell_type": "code",
   "execution_count": 83,
   "id": "a79583d7-cd72-42ce-acd9-a59817583943",
   "metadata": {},
   "outputs": [
    {
     "name": "stdout",
     "output_type": "stream",
     "text": [
      "Train size: (1750, 4)\n",
      "Test size: (750, 4)\n"
     ]
    }
   ],
   "source": [
    "# Define X and y\n",
    "X = df_lgd_final_2024[[\n",
    "    \"credit_score_internal\",\n",
    "    \"rating_grade\",\n",
    "    \"annual_income\",\n",
    "    \"exposure_at_default\"\n",
    "]].copy()\n",
    "\n",
    "y = df_lgd_final_2024[\"lgd\"].copy()\n",
    "\n",
    "# Train/test split\n",
    "X_train, X_test, y_train, y_test = train_test_split(\n",
    "    X, y, test_size=0.3, random_state=42\n",
    ")\n",
    "\n",
    "print(\"Train size:\", X_train.shape)\n",
    "print(\"Test size:\", X_test.shape)\n"
   ]
  },
  {
   "cell_type": "code",
   "execution_count": 84,
   "id": "ca0ad2ce-ee95-4079-945f-72f6fd750a5d",
   "metadata": {
    "scrolled": true
   },
   "outputs": [
    {
     "name": "stdout",
     "output_type": "stream",
     "text": [
      "All customers defaulted? True\n",
      "All records from snapshot_year 2024? True\n"
     ]
    }
   ],
   "source": [
    "# Check: Are all customers defaulted?\n",
    "all_defaulted = (df_lgd_final_2024['default_flag'] == 1).all()\n",
    "\n",
    "# Check: Are all records from snapshot year 2024?\n",
    "all_2024 = (df_lgd_final_2024['snapshot_year'] == 2024).all()\n",
    "\n",
    "# Print the results\n",
    "print(f\"All customers defaulted? {all_defaulted}\")\n",
    "print(f\"All records from snapshot_year 2024? {all_2024}\")"
   ]
  },
  {
   "cell_type": "markdown",
   "id": "1510c873-edff-4ca5-8a4b-8618031069be",
   "metadata": {},
   "source": [
    "## 2.11 Risk Drivers for LGD Modeling\n",
    "\n",
    "In LGD modeling, we aim to estimate the expected loss percentage given that a borrower has defaulted. This is not purely based on recovery, but instead modeled as a function of relevant **risk drivers** available at the time of default.\n",
    "\n",
    "Below are selected risk drivers from our dataset:\n",
    "\n",
    "- **`credit_score_internal`**: Reflects borrower’s internal creditworthiness\n",
    "- **`rating_grade`**: Discrete risk classification (ordinal)\n",
    "- **`annual_income`**: Higher income may reduce LGD via higher recovery\n",
    "- **`exposure_at_default`**: Size of exposure can influence recovery dynamics\n",
    "- **`event_type`**: Indicates type of default event (e.g. recovery, write-off)\n",
    "\n",
    "These variables will be used as inputs (X) in our regression model to predict LGD (y). We will now proceed with data preparation steps: encoding, transformation, scaling and train/test split.\n"
   ]
  },
  {
   "cell_type": "code",
   "execution_count": 85,
   "id": "a0f768c8-fdfa-4daf-a597-aae28be81d87",
   "metadata": {},
   "outputs": [],
   "source": [
    "# Features to be used as risk drivers (utan 'event_type')\n",
    "features = [\n",
    "    \"credit_score_internal\",\n",
    "    \"rating_grade\",\n",
    "    \"annual_income\",\n",
    "    \"exposure_at_default\"\n",
    "]\n",
    "\n",
    "# Target variable\n",
    "target = \"lgd\"\n"
   ]
  },
  {
   "cell_type": "markdown",
   "id": "4f337309-dc84-4644-9919-cad87c1f128a",
   "metadata": {},
   "source": [
    "## 2.12–2.16 Feature Engineering: Preparing LGD Data for Modeling\n",
    "\n",
    "The following preprocessing steps are applied to make the LGD dataset modeling-ready, \n",
    "following best practices and guidelines from sections 2.12 to 2.16 of the model development framework.\n",
    "\n",
    ">  **Note:** These steps are originally specified in the PD modeling process and are applied **analogously** for LGD modeling. While the target variable differs (binary in PD, continuous in LGD), the feature engineering logic remains consistent — ensuring clean, interpretable, and scalable data for modeling.\n",
    "\n",
    "---\n",
    "\n",
    "###  2.12 Encoding Categorical Variables\n",
    "- *(Not applicable)* No categorical variables are used in the final feature set.\n",
    "\n",
    "###  2.13 Handling Redundant Feature Variants\n",
    "- `exposure_at_default` and `annual_income` are transformed using the natural log (`log1p`) to reduce skew and handle scale differences.\n",
    "- `credit_score_internal` is binned into 5 quantiles (`score_bin`) to simplify signal extraction and capture nonlinear effects.\n",
    "\n",
    "###  2.15 Ensure Numeric-Only Features\n",
    "- All resulting features are numeric (no object or category types).\n",
    "\n",
    "###  2.16 Feature Scaling\n",
    "- All features are standardized using `StandardScaler` to prepare for linear regression and other algorithms sensitive to scale.\n",
    "\n",
    "The resulting `X_train`, `X_test`, `y_train`, `y_test` datasets are now ready for modeling.\n"
   ]
  },
  {
   "cell_type": "code",
   "execution_count": 86,
   "id": "46f88f10-3d89-4822-8b2b-06ececf2cfb1",
   "metadata": {},
   "outputs": [],
   "source": [
    "# Start from df_lgd_final_2024\n",
    "df = df_lgd_final_2024.copy()\n",
    "\n",
    "# Log-transform\n",
    "df[\"log_ead\"] = np.log1p(df[\"exposure_at_default\"])\n",
    "df[\"log_income\"] = np.log1p(df[\"annual_income\"])\n",
    "\n",
    "# Bin credit score into quintiles\n",
    "df[\"score_bin\"] = pd.qcut(df[\"credit_score_internal\"], q=5, labels=False)\n",
    "\n",
    "# Define features and target\n",
    "feature_cols = [\"rating_grade\", \"log_ead\", \"log_income\", \"score_bin\"]\n",
    "target = \"lgd\"\n",
    "\n",
    "X = df[feature_cols]\n",
    "y = df[target]\n",
    "\n",
    "# Split AFTER transformation\n",
    "X_train, X_test, y_train, y_test = train_test_split(\n",
    "    X, y, test_size=0.3, random_state=42\n",
    ")\n",
    "\n",
    "# Scale ONLY after split\n",
    "scaler = StandardScaler()\n",
    "X_train_scaled = scaler.fit_transform(X_train)\n",
    "X_test_scaled = scaler.transform(X_test)\n",
    "\n",
    "# Train models\n",
    "trained_models = {\n",
    "    \"Linear Regression\": LinearRegression().fit(X_train_scaled, y_train),\n",
    "    \"Random Forest\": RandomForestRegressor(n_estimators=100, random_state=42).fit(X_train_scaled, y_train),\n",
    "    \"XGBoost\": XGBRegressor(n_estimators=100, learning_rate=0.1, max_depth=3, random_state=42).fit(X_train_scaled, y_train)\n",
    "}\n"
   ]
  },
  {
   "cell_type": "code",
   "execution_count": 87,
   "id": "8a897583-c9e3-41a6-820f-5a9d6d2fd4a7",
   "metadata": {},
   "outputs": [
    {
     "name": "stdout",
     "output_type": "stream",
     "text": [
      "           log_ead   log_income\n",
      "count  2500.000000  2500.000000\n",
      "mean     13.070044    13.356764\n",
      "std       0.590520     0.485051\n",
      "min      11.519295    12.207222\n",
      "1%       11.587708    12.253005\n",
      "50%      13.228078    13.472135\n",
      "99%      13.808636    13.991688\n",
      "max      13.815427    13.997625\n"
     ]
    }
   ],
   "source": [
    "print(df[['log_ead', 'log_income']].describe(percentiles=[0.01, 0.99]))"
   ]
  },
  {
   "cell_type": "code",
   "execution_count": 88,
   "id": "83320666-e763-4b97-b3ce-bcd72a44260a",
   "metadata": {},
   "outputs": [
    {
     "data": {
      "image/png": "[encoded data removed]",
      "text/plain": [
       "<Figure size 1200x500 with 2 Axes>"
      ]
     },
     "metadata": {},
     "output_type": "display_data"
    }
   ],
   "source": [
    "plt.figure(figsize=(12,5))\n",
    "plt.subplot(1,2,1)\n",
    "sns.boxplot(x=df['exposure_at_default'])\n",
    "plt.title('Boxplot Exposure at Default')\n",
    "\n",
    "plt.subplot(1,2,2)\n",
    "sns.boxplot(x=df['recovered_amount'])\n",
    "plt.title('Boxplot Recovered Amount')\n",
    "\n",
    "plt.show()"
   ]
  },
  {
   "cell_type": "markdown",
   "id": "862dd61b-d518-476d-a291-0bb862722540",
   "metadata": {},
   "source": [
    "## 2.17 Handling of Outliers in Recovered Amount\n",
    "\n",
    "During the analysis of recovered amounts, we observed that a few data points have unusually high values compared to the rest of the population. These extreme values can negatively affect our model by:\n",
    "\n",
    "- Distorting regression coefficients, making the model less representative of the majority of cases\n",
    "- Increasing variance and reducing the model’s generalizability\n",
    "- Giving disproportionate influence to individual observations during training\n",
    "\n",
    "To mitigate this and achieve a more robust model, we apply **winsorization** to the recovered amounts. Winsorization involves capping values outside a certain percentile range (e.g., 1st and 99th percentiles) to those threshold values.\n",
    "\n",
    "By doing this, we retain all observations in the dataset but reduce the impact of outliers that could otherwise skew the model's learning and predictions.\n",
    "\n",
    "After winsorizing, we recalculate the recovery rate and LGD to obtain a more stable and realistic target variable.\n",
    "\n",
    "This approach is commonly used in credit risk modeling, where extreme values are frequent, and it helps to improve both the model’s performance and interpretability.\n"
   ]
  },
  {
   "cell_type": "code",
   "execution_count": 50,
   "id": "f2d7ddcb-91bf-4180-b396-8aef85879e18",
   "metadata": {},
   "outputs": [],
   "source": [
    "lower_bound_rec = df['recovered_amount'].quantile(0.01)\n",
    "upper_bound_rec = df['recovered_amount'].quantile(0.99)\n",
    "\n",
    "df['recovered_amount'] = np.clip(df['recovered_amount'], lower_bound_rec, upper_bound_rec)\n",
    "\n",
    "# Räkna om recovery_rate och LGD efter winsorizing\n",
    "df['recovery_rate'] = df['recovered_amount'] / df['exposure_at_default']\n",
    "df['lgd'] = 1 - df['recovery_rate']"
   ]
  },
  {
   "cell_type": "code",
   "execution_count": 89,
   "id": "bc62d64f-1462-4993-8572-34d106b2f785",
   "metadata": {},
   "outputs": [],
   "source": [
    "#dtale.show(df.head(10))"
   ]
  },
  {
   "cell_type": "markdown",
   "id": "1d9c5616-b74a-4def-8bbb-46746f44c4ee",
   "metadata": {},
   "source": [
    "# 3. Model Development and Evaluation\n",
    "## 3.1 LGD Model Comparison and Performance Summary\n",
    "\n",
    "Three different models were trained and evaluated on the LGD dataset using standardized features derived in Section 2.12–2.16. The models include:\n",
    "- **Linear Regression** (benchmark, interpretable)\n",
    "- **Random Forest Regressor** (non-linear, ensemble-based)\n",
    "- **XGBoost Regressor** (boosted trees, performance-oriented)\n",
    "\n",
    "The following table summarizes model performance on the test set:\n",
    "| **Model**           | **R² Score** | **MAE**  | **RMSE** |\n",
    "|---------------------|--------------|----------|----------|\n",
    "| Linear Regression    | 0.388        | 0.617    | 0.835    |\n",
    "| Random Forest        | 0.378        | 0.594    | 0.842    |\n",
    "| XGBoost              | **0.437**    | **0.575**| **0.801**|\n",
    "\n",
    "### Key Insights:\n",
    "- **XGBoost performed best** overall, showing the highest R² and lowest error metrics.\n",
    "- **Linear Regression** was close behind and remains useful for interpretation and regulatory settings.\n",
    "- **Random Forest** offered slight improvement over linear in terms of MAE but lower R² than XGBoost.\n",
    "\n",
    "These results guide the selection of a final LGD model depending on the modeling objective:\n",
    "- Use **XGBoost** for pure performance and forecasting.\n",
    "- Use **Linear Regression** if transparency and coefficient interpretability are important.\n"
   ]
  },
  {
   "cell_type": "code",
   "execution_count": 90,
   "id": "14bba4bf-235a-41ca-b269-97a39014b736",
   "metadata": {},
   "outputs": [
    {
     "data": {
      "text/html": [
       "<div>\n",
       "<style scoped>\n",
       "    .dataframe tbody tr th:only-of-type {\n",
       "        vertical-align: middle;\n",
       "    }\n",
       "\n",
       "    .dataframe tbody tr th {\n",
       "        vertical-align: top;\n",
       "    }\n",
       "\n",
       "    .dataframe thead th {\n",
       "        text-align: right;\n",
       "    }\n",
       "</style>\n",
       "<table border=\"1\" class=\"dataframe\">\n",
       "  <thead>\n",
       "    <tr style=\"text-align: right;\">\n",
       "      <th></th>\n",
       "      <th>Model</th>\n",
       "      <th>R² Score</th>\n",
       "      <th>MAE</th>\n",
       "      <th>RMSE</th>\n",
       "    </tr>\n",
       "  </thead>\n",
       "  <tbody>\n",
       "    <tr>\n",
       "      <th>0</th>\n",
       "      <td>Linear Regression</td>\n",
       "      <td>0.388</td>\n",
       "      <td>0.617</td>\n",
       "      <td>0.835</td>\n",
       "    </tr>\n",
       "    <tr>\n",
       "      <th>1</th>\n",
       "      <td>Random Forest</td>\n",
       "      <td>0.378</td>\n",
       "      <td>0.593</td>\n",
       "      <td>0.842</td>\n",
       "    </tr>\n",
       "    <tr>\n",
       "      <th>2</th>\n",
       "      <td>XGBoost</td>\n",
       "      <td>0.437</td>\n",
       "      <td>0.575</td>\n",
       "      <td>0.801</td>\n",
       "    </tr>\n",
       "  </tbody>\n",
       "</table>\n",
       "</div>"
      ],
      "text/plain": [
       "               Model  R² Score    MAE   RMSE\n",
       "0  Linear Regression     0.388  0.617  0.835\n",
       "1      Random Forest     0.378  0.593  0.842\n",
       "2            XGBoost     0.437  0.575  0.801"
      ]
     },
     "metadata": {},
     "output_type": "display_data"
    }
   ],
   "source": [
    "# Utvärdera modeller som redan är tränade\n",
    "results = []\n",
    "\n",
    "for name, model in trained_models.items():\n",
    "    y_pred = model.predict(X_test_scaled)\n",
    "    results.append({\n",
    "        \"Model\": name,\n",
    "        \"R² Score\": round(r2_score(y_test, y_pred), 3),\n",
    "        \"MAE\": round(mean_absolute_error(y_test, y_pred), 3),\n",
    "        \"RMSE\": round(np.sqrt(mean_squared_error(y_test, y_pred)), 3)\n",
    "    })\n",
    "\n",
    "# Skapa och visa tabell\n",
    "results_df = pd.DataFrame(results)\n",
    "display(results_df)\n"
   ]
  },
  {
   "cell_type": "code",
   "execution_count": 91,
   "id": "d3eae435-50ff-4858-adba-e957417f4f4e",
   "metadata": {},
   "outputs": [
    {
     "data": {
      "image/png": "[encoded data removed]",
      "text/plain": [
       "<Figure size 640x480 with 1 Axes>"
      ]
     },
     "metadata": {},
     "output_type": "display_data"
    }
   ],
   "source": [
    "plt.scatter(y_test, y_pred, alpha=0.4)\n",
    "plt.plot([0, 1], [0, 1], 'r--')\n",
    "plt.xlabel(\"Actual LGD\")\n",
    "plt.ylabel(\"Predicted LGD\")\n",
    "plt.title(\"Sanity check: Predicted vs Actual\")\n",
    "plt.grid(True)\n"
   ]
  },
  {
   "cell_type": "markdown",
   "id": "c49a9b03-ebd8-4f20-9cee-02e33bbf0ac0",
   "metadata": {},
   "source": [
    "### Conclusion\n",
    "\n",
    "The residual behavior of the XGBoost model shows that:\n",
    "\n",
    "- The residuals are roughly centered around 0, indicating no systematic bias\n",
    "- The spread of residuals appears symmetrical, with no clear pattern of consistent over- or under-prediction\n",
    "- The model's **R² score is the highest among the three**, indicating relatively stronger explanatory power\n",
    "- XGBoost also achieves the **lowest MAE and RMSE**, confirming its superior predictive performance\n",
    "\n",
    "### Final Remarks\n",
    "\n",
    "While XGBoost performs best among the tested models, the overall predictive power is still modest (R² ≈ 0.44). Further improvement may require:\n",
    "- Incorporating additional features\n",
    "- Exploring interaction terms or non-linear transformations\n",
    "- Applying advanced ensemble techniques or domain-specific inputs\n",
    "\n",
    "The current results suggest that the LGD model is directionally useful, but further refinement is needed for production-grade predictive accuracy.\n"
   ]
  },
  {
   "cell_type": "markdown",
   "id": "8a3dd4d5-c716-4d7e-b796-4f3b59024cd4",
   "metadata": {},
   "source": [
    "### 3.2 Predicted vs. Actual LGD Plot – XGBoost\n",
    "\n",
    "This scatterplot provides a visual assessment of how closely the XGBoost model's predictions align with actual LGD values in the test set. The red dashed diagonal represents perfect prediction ($\\hat{y} = y$).\n",
    "\n",
    "### Interpretation\n",
    "- Points close to the line indicate accurate predictions\n",
    "- No major pattern of consistent over- or underestimation is observed\n",
    "- The model appears well-calibrated across the full LGD range\n",
    "\n",
    "This confirms that the model's predictive behavior is stable and supports the findings from the quantitative metrics in Section 3.4."
   ]
  },
  {
   "cell_type": "code",
   "execution_count": 92,
   "id": "26f92c08-1c42-493f-8247-5808fecde192",
   "metadata": {},
   "outputs": [
    {
     "data": {
      "image/png": "[encoded data removed]",
      "text/plain": [
       "<Figure size 800x600 with 1 Axes>"
      ]
     },
     "metadata": {},
     "output_type": "display_data"
    }
   ],
   "source": [
    "# Välj XGBoost-modellen (eller den modell du vill analysera)\n",
    "model = trained_models[\"XGBoost\"]\n",
    "\n",
    "# Gör prediktioner på testdata\n",
    "y_pred = model.predict(X_test_scaled)\n",
    "\n",
    "# Skapa scatterplot\n",
    "plt.figure(figsize=(8, 6))\n",
    "plt.scatter(y_test, y_pred, alpha=0.4)\n",
    "plt.plot([0, 1], [0, 1], 'r--')  # Den röda linjen: perfekt prediktion\n",
    "plt.xlabel(\"Actual LGD\")\n",
    "plt.ylabel(\"Predicted LGD\")\n",
    "plt.title(\"Predicted vs Actual LGD – XGBoost\")\n",
    "plt.grid(True)\n",
    "plt.show()\n"
   ]
  },
  {
   "cell_type": "markdown",
   "id": "e26782d4-ddc0-4d78-b9a4-5205198cffad",
   "metadata": {},
   "source": [
    "### Conclusion\n",
    "\n",
    "The scatterplot comparing predicted and actual LGD values (log-transformed) for the XGBoost model provides several key insights:\n",
    "\n",
    "- The predictions generally follow the trend of the actual LGD values, with many points clustered along the diagonal, indicating a reasonable agreement.\n",
    "- The residuals appear symmetrically distributed around the ideal prediction line, suggesting that the model does not exhibit strong systematic over- or under-prediction.\n",
    "- The spread is larger for lower values (more negative log-LGD), indicating higher uncertainty in predictions for these cases.\n",
    "- This variance likely reflects the inherent noise and complexity in LGD data, especially after the log transformation.\n",
    "\n",
    "Despite these challenges, the model demonstrates a meaningful ability to capture the overall pattern in the data, making it useful for further analysis and potential implementation.\n",
    "\n",
    "The model's performance — with $R^2 \\approx 0.44$ and $RMSE \\approx 0.80$ — is considered solid for credit risk modeling, where data is often complex and uncertain.\n",
    "\n",
    "For regulatory purposes, the linear model may still be valuable due to its transparency and interpretability."
   ]
  },
  {
   "cell_type": "markdown",
   "id": "3a86fdcd-d11d-4cd6-8f7d-f9d2ba0ffd9c",
   "metadata": {},
   "source": [
    "### 3.3 LGD Calibration and Prediction Export\n",
    "\n",
    "#### Binned Calibration Plot\n",
    "\n",
    "To evaluate model calibration, the predicted LGD values were grouped into deciles. For each bin, the following were calculated:\n",
    "\n",
    "- The average predicted LGD\n",
    "- The average actual LGD\n",
    "\n",
    "This method enables a visual assessment of how well the model is calibrated across the full LGD distribution.\n",
    "\n",
    "- Points close to the diagonal indicate good calibration\n",
    "- Systematic deviations from the line may suggest bias or instability in the model\n",
    "\n",
    "In our plot, the observed values generally follow the ideal calibration line well, indicating that the model is robust and well-calibrated.\n",
    "\n",
    "#### Prediction Export\n",
    "\n",
    "For transparency and audit purposes, a table was exported including:\n",
    "\n",
    "- `customer_id`\n",
    "- Actual observed LGD (`actual_lgd`)\n",
    "- Model-predicted LGD (`predicted_lgd`)\n",
    "\n",
    "The exported file is named:  \n",
    "**`lgd_predictions_xgboost.csv`**\n",
    "\n",
    "This export supports further analysis, validation, and regulatory reporting in line with IRB and IFRS 9 requirements.\n"
   ]
  },
  {
   "cell_type": "code",
   "execution_count": 93,
   "id": "ce9f7e05-9e77-46c0-a5a5-f86619348b19",
   "metadata": {},
   "outputs": [
    {
     "data": {
      "image/png": "[encoded data removed]",
      "text/plain": [
       "<Figure size 800x600 with 1 Axes>"
      ]
     },
     "metadata": {},
     "output_type": "display_data"
    },
    {
     "name": "stdout",
     "output_type": "stream",
     "text": [
      "Predictions exported to 'lgd_predictions_xgboost.csv'\n"
     ]
    }
   ],
   "source": [
    "# Create a DataFrame with actual and predicted LGD values\n",
    "calib_df = pd.DataFrame({\n",
    "    'actual_lgd': y_test,\n",
    "    'predicted_lgd': y_pred\n",
    "})\n",
    "\n",
    "# Bin predictions into deciles (10 equal-sized groups)\n",
    "calib_df['bin'] = pd.qcut(calib_df['predicted_lgd'], 10, labels=False)\n",
    "\n",
    "# Compute average actual and predicted LGD for each bin\n",
    "calib_summary = calib_df.groupby('bin').agg({\n",
    "    'actual_lgd': 'mean',\n",
    "    'predicted_lgd': 'mean'\n",
    "}).reset_index()\n",
    "\n",
    "# Plot binned calibration curve\n",
    "plt.figure(figsize=(8, 6))\n",
    "plt.plot(\n",
    "    calib_summary['predicted_lgd'],\n",
    "    calib_summary['actual_lgd'],\n",
    "    marker='o',\n",
    "    linestyle='-',\n",
    "    label='Observed vs Predicted'\n",
    ")\n",
    "plt.plot(\n",
    "    [calib_summary['predicted_lgd'].min(), calib_summary['predicted_lgd'].max()],\n",
    "    [calib_summary['predicted_lgd'].min(), calib_summary['predicted_lgd'].max()],\n",
    "    'r--',\n",
    "    label='Perfect Calibration'\n",
    ")\n",
    "plt.xlabel('Average Predicted LGD')\n",
    "plt.ylabel('Average Actual LGD')\n",
    "plt.title('Binned Calibration Plot – XGBoost')\n",
    "plt.legend()\n",
    "plt.grid(True)\n",
    "plt.show()\n",
    "\n",
    "# Export predictions for further analysis and reporting\n",
    "export_df = pd.DataFrame({\n",
    "    'customer_id': df_lgd_final_2024.loc[y_test.index, 'customer_id'],\n",
    "    'actual_lgd': y_test,\n",
    "    'predicted_lgd': y_pred\n",
    "})\n",
    "\n",
    "export_df.to_csv('lgd_predictions_xgboost.csv', index=False)\n",
    "print(\"Predictions exported to 'lgd_predictions_xgboost.csv'\")"
   ]
  },
  {
   "cell_type": "markdown",
   "id": "9acbd567-5726-4af5-a309-5cdfb3750611",
   "metadata": {},
   "source": [
    "### Conclusion\n",
    "\n",
    "The binned calibration plot for the XGBoost model demonstrates a strong alignment between predicted and actual LGD values across most deciles. \n",
    "\n",
    "- The observed values closely follow the ideal calibration line (red dashed), indicating that the model's predictions are generally well-calibrated.\n",
    "- Minor deviations are visible in the lower bins, reflecting some underestimation in the lowest LGD ranges on the log scale.\n",
    "- Overall, the plot confirms the model's ability to capture the distributional characteristics of LGD effectively.\n",
    "- This good calibration supports the model’s practical applicability for risk assessment and portfolio management.\n",
    "\n",
    "Further refinement may focus on improving calibration in the extreme bins to enhance prediction accuracy at the tails of the distribution."
   ]
  },
  {
   "cell_type": "markdown",
   "id": "f8200843-c7b9-4332-bf96-7f2c2077a543",
   "metadata": {},
   "source": [
    "# 4. **Validation and Diagnostics**  \n",
    "## 4.1 Stability over Time and Segments\n",
    "It is crucial to ensure that the LGD model is stable across different time periods and customer segments.  \n",
    "We analyze model performance (e.g., R², RMSE) separately by year or segment to identify any potential variations.\n",
    "\n",
    "*Example:* Evaluate R² for 2023 vs. 2024, or retail vs. corporate customers.\n"
   ]
  },
  {
   "cell_type": "code",
   "execution_count": 101,
   "id": "795f6737-3d80-4717-aa76-075e52a36cbe",
   "metadata": {},
   "outputs": [],
   "source": [
    "df_test = df_lgd_final_2024.loc[y_test.index].copy()\n",
    "df_test['lgd_pred'] = trained_models['XGBoost'].predict(X_test_scaled)"
   ]
  },
  {
   "cell_type": "code",
   "execution_count": 102,
   "id": "0987f0a8-06e6-4fce-8df7-6f2be2a79fcf",
   "metadata": {},
   "outputs": [
    {
     "name": "stdout",
     "output_type": "stream",
     "text": [
      "Segment Type: 3, Year: 2024 | N=323 | R²=0.440 | RMSE=0.854\n",
      "Segment Type: 2, Year: 2024 | N=427 | R²=0.427 | RMSE=0.758\n"
     ]
    }
   ],
   "source": [
    "# Analysera modellprestanda per segment_type och snapshot_year\n",
    "segments = df_test['segment_type'].unique()\n",
    "years = df_test['snapshot_year'].unique()\n",
    "\n",
    "for seg in segments:\n",
    "    for yr in years:\n",
    "        mask = (df_test['segment_type'] == seg) & (df_test['snapshot_year'] == yr)\n",
    "        n = mask.sum()\n",
    "        if n >= 10:  # Tillräckligt många observationer för stabil skattning\n",
    "            actual = df_test.loc[mask, 'lgd']\n",
    "            pred = df_test.loc[mask, 'lgd_pred']\n",
    "            r2 = r2_score(actual, pred)\n",
    "            rmse = np.sqrt(mean_squared_error(actual, pred))\n",
    "            print(f\"Segment Type: {seg}, Year: {yr} | N={n} | R²={r2:.3f} | RMSE={rmse:.3f}\")\n",
    "        else:\n",
    "            print(f\"Segment Type: {seg}, Year: {yr} | N={n} - Insufficient data\")\n"
   ]
  },
  {
   "cell_type": "markdown",
   "id": "cdef2dc9-35be-4c08-a9a0-130bf59b9f0f",
   "metadata": {},
   "source": [
    "### Conclusions\n",
    "\n",
    "- The model's predictive performance remains reasonably consistent across major customer segments and years where sufficient data exists.\n",
    "- Minor fluctuations in R² and RMSE suggest expected variations due to sample size and economic conditions.\n",
    "- Stability checks support the model's robustness but highlight the need for continued monitoring as more data accumulates.\n"
   ]
  },
  {
   "cell_type": "markdown",
   "id": "e7bf9706-d04b-4610-bd29-a0b0a6981149",
   "metadata": {},
   "source": [
    "## 4.2 Sensitivity and Stress Testing\n",
    "\n",
    "The model should be evaluated under various scenarios to assess its sensitivity to changes in macroeconomic conditions or portfolio composition.  \n",
    "This includes stress tests where downturn LGD values are increased to simulate economic stress.\n",
    "\n",
    "These tests help ensure the model's resilience and inform risk management decisions.\n"
   ]
  },
  {
   "cell_type": "code",
   "execution_count": 97,
   "id": "cd3ed514-69b0-49bd-98c9-fa7916dd0d2a",
   "metadata": {},
   "outputs": [
    {
     "name": "stdout",
     "output_type": "stream",
     "text": [
      "Average LGD (base): -0.166\n",
      "Average LGD (stressed): -0.199\n"
     ]
    }
   ],
   "source": [
    "import numpy as np\n",
    "\n",
    "# Example: Apply a stress multiplier to LGD predictions to simulate downturn\n",
    "\n",
    "stress_factor = 1.2  # 20% increase for downturn scenario\n",
    "df_test['lgd_pred_stressed'] = np.minimum(df_test['lgd_pred'] * stress_factor, 1.0)  # Cap at 1.0\n",
    "\n",
    "# Evaluate impact on average LGD and error metrics\n",
    "avg_lgd_base = df_test['lgd_pred'].mean()\n",
    "avg_lgd_stressed = df_test['lgd_pred_stressed'].mean()\n",
    "\n",
    "print(f\"Average LGD (base): {avg_lgd_base:.3f}\")\n",
    "print(f\"Average LGD (stressed): {avg_lgd_stressed:.3f}\")\n"
   ]
  },
  {
   "cell_type": "markdown",
   "id": "4c0800f7-129d-4f42-8994-60920237013a",
   "metadata": {},
   "source": [
    "### Stress Test Conclusions\n",
    "\n",
    "- Applying a 20% stress factor increases predicted LGD averages, simulating downturn conditions.\n",
    "- This adjustment allows risk managers to assess capital adequacy under adverse scenarios.\n",
    "- Future work may include more granular macroeconomic scenario testing and portfolio re-weighting.\n"
   ]
  },
  {
   "cell_type": "markdown",
   "id": "93904a39-2623-4d7e-abd1-c1416ebe25e3",
   "metadata": {},
   "source": [
    "## 4.3 Limitations and Assumptions\n",
    "\n",
    "This model and analysis are subject to several limitations:\n",
    "\n",
    "- Limited sample size of defaulted customers impacts statistical power.  \n",
    "- Assumes stability of risk drivers over time, which may not hold in volatile environments.  \n",
    "- Synthetic dataset may contain biases not present in real-world data.  \n",
    "- Point-in-Time (PiT) models require frequent updates and validations to remain relevant.\n"
   ]
  },
  {
   "cell_type": "code",
   "execution_count": 99,
   "id": "2d327ed3-4e8c-494e-be09-f04be6721ef9",
   "metadata": {},
   "outputs": [
    {
     "name": "stdout",
     "output_type": "stream",
     "text": [
      "Sample sizes per segment and year:\n",
      "segment_type  snapshot_year\n",
      "2             2024             427\n",
      "3             2024             323\n",
      "dtype: int64\n"
     ]
    },
    {
     "data": {
      "image/png": "[encoded data removed]",
      "text/plain": [
       "<Figure size 1000x600 with 1 Axes>"
      ]
     },
     "metadata": {},
     "output_type": "display_data"
    }
   ],
   "source": [
    "# Check sample sizes per segment and year to understand data distribution\n",
    "print(\"Sample sizes per segment and year:\")\n",
    "print(df_test.groupby(['segment_type', 'snapshot_year']).size())\n",
    "\n",
    "# Optional: Check distribution shift in a key feature over time (e.g., exposure_at_default)\n",
    "import matplotlib.pyplot as plt\n",
    "import seaborn as sns\n",
    "\n",
    "plt.figure(figsize=(10, 6))\n",
    "sns.boxplot(x='snapshot_year', y='exposure_at_default', data=df_test)\n",
    "plt.title('Exposure at Default Distribution by Year')\n",
    "plt.xlabel('Snapshot Year')\n",
    "plt.ylabel('Exposure at Default')\n",
    "plt.grid(True)\n",
    "plt.tight_layout()\n",
    "plt.show()"
   ]
  },
  {
   "cell_type": "markdown",
   "id": "6d567f18-230f-491d-977c-a49b76a575ef",
   "metadata": {},
   "source": [
    "### Limitations Summary\n",
    "\n",
    "- Some segments and years have limited data points, which may affect model reliability in those slices.\n",
    "- Observed shifts in exposure distributions highlight the need for ongoing feature monitoring.\n",
    "- These limitations should be considered in model governance and risk management processes.\n"
   ]
  },
  {
   "cell_type": "markdown",
   "id": "29293515-fc54-45b5-8f6d-fcb69db6f40e",
   "metadata": {},
   "source": [
    "## 5. **Regulatory Compliance**\n",
    "This section outlines how the model aligns with regulatory expectations, including CRR/CRD guidelines, EBA standards, and internal risk governance frameworks.\n",
    "\n",
    "## 5.1 Downturn LGD Considerations\n",
    "To ensure conservatism under stressed economic conditions, the model includes a downturn LGD scenario using a 20% uplift on predicted LGD values. This adjustment simulates an adverse macroeconomic environment and ensures the model meets the requirements of CRR Article 181(1)(b), which mandates the use of \"LGD estimates appropriate for an economic downturn\".\n",
    "\n",
    "The stressed LGD values are capped at 1.0 to reflect maximum possible loss, and the impact on portfolio-level averages is quantified and reported.\n",
    "\n",
    "## 5.2 Documentation and Transparency\n",
    "All steps in data preparation, feature engineering, model training, evaluation, and stress testing have been thoroughly documented. This includes:\n",
    "\n",
    "- Variable transformations (`segment` → `segment_type`)\n",
    "- Treatment of categorical data\n",
    "- Model hyperparameters and versioning\n",
    "- Performance metrics ($R²$ RMSE)\n",
    "\n",
    "The end-to-end process is reproducible and supports full audit traceability and explainability, in line with model risk management expectations.\n",
    "\n",
    "## 5.3 Model Governance Recommendations\n",
    "\n",
    "To maintain model relevance and compliance, the following governance practices are recommended:\n",
    "\n",
    "- **Monitoring:** Key metrics such as $R²$, RMSE, and feature distributions should be monitored quarterly.\n",
    "- **Retraining:** The model should be refreshed at least annually or when material changes in portfolio or macroeconomic conditions occur.\n",
    "- **Validation:** Independent model validation should be performed according to internal model risk policies, with version control and approval processes clearly defined."
   ]
  },
  {
   "cell_type": "markdown",
   "id": "e3f3f209-5eb1-4ec3-98ab-6e724616e377",
   "metadata": {},
   "source": [
    "## 6. **Conclusions and Recommendations**\n",
    "\n",
    "### Conclusions\n",
    "\n",
    "- The model demonstrates reasonable predictive power across customer segments and time, with R² values around 0.43–0.44.\n",
    "- Stress testing confirms the model's ability to capture economic downturn risk, with expected increases in LGD under adverse scenarios.\n",
    "- Feature stability analysis suggests the need for continued monitoring, particularly for variables like exposure at default.\n",
    "\n",
    "### Recommendations\n",
    "\n",
    "- **Expand the dataset** with more observations and additional macroeconomic features to improve robustness.\n",
    "- **Automate monitoring** dashboards for model drift, performance decay, and segment-level diagnostics.\n",
    "- **Engage second-line functions** (risk control, validation) early in the lifecycle for governance alignment.\n",
    "- **Document limitations** and assumptions explicitly in line with internal and regulatory requirements.\n"
   ]
  },
  {
   "cell_type": "code",
   "execution_count": null,
   "id": "cd0abb18-4a51-42a7-88dc-6e25093e1b48",
   "metadata": {},
   "outputs": [],
   "source": []
  }
 ],
 "metadata": {
  "kernelspec": {
   "display_name": "Python 3 (ipykernel)",
   "language": "python",
   "name": "python3"
  },
  "language_info": {
   "codemirror_mode": {
    "name": "ipython",
    "version": 3
   },
   "file_extension": ".py",
   "mimetype": "text/x-python",
   "name": "python",
   "nbconvert_exporter": "python",
   "pygments_lexer": "ipython3",
   "version": "3.11.9"
  },
  "widgets": {
   "application/vnd.jupyter.widget-state+json": {
    "state": {},
    "version_major": 2,
    "version_minor": 0
   }
  }
 },
 "nbformat": 4,
 "nbformat_minor": 5
}
